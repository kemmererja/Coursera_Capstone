{
 "cells": [
  {
   "cell_type": "markdown",
   "metadata": {
    "collapsed": true
   },
   "source": [
    "# Capstone Project - The Battle of the Neighborhoods - Locaton to Open a Gym (Week 4 - Week 1)\n",
    "\n",
    "### Applied Data Science Capstone by IBM/Coursera"
   ]
  },
  {
   "cell_type": "markdown",
   "metadata": {},
   "source": [
    "## Table of contents\n",
    "* [Introduction: Business Problem](#introduction)\n",
    "* [Data](#data)"
   ]
  },
  {
   "cell_type": "markdown",
   "metadata": {},
   "source": [
    "\n",
    "\n",
    "## Introduction: Business Problem <a name=\"introduction\"></a>"
   ]
  },
  {
   "cell_type": "markdown",
   "metadata": {},
   "source": [
    "In this project we will try to find an optimal location for a gym/fitness center. Specifically, this report will be targeted to stakeholders interested in opening an **Gym / Fitness Center** in **Pougkeepsie, NY**, USA.\n",
    "\n",
    "Gyms and Fitness Centers are important for people's health, both physical and mental well-being of all age groups.  Gyms need to convenient for members to get to where they should not need to drive over 7 minutes to get to the gym.  \n",
    "\n",
    "While there are not many fitness centers in Poughkeepsie, we will try to detect **locations where members do not need to drive over 7 minutes to the gym.**. We are also particularly interested in **areas with no fitness centers in vicinity**. We would also prefer locations **as close to city center as possible**, assuming that first two conditions are met.\n",
    "\n",
    "We will use our data science powers to generate a few most promising locations based on this criteria. Advantages of each area will then be clearly expressed so that best possible final location can be chosen by stakeholders."
   ]
  },
  {
   "cell_type": "markdown",
   "metadata": {},
   "source": [
    "## Data <a name=\"data\"></a>"
   ]
  },
  {
   "cell_type": "markdown",
   "metadata": {},
   "source": [
    "Based on definition of our problem, factors that will influence our decision are:\n",
    "* number of existing fitness centers in the zipcode\n",
    "* number of and distance to fitness centers in the neighborhood, if any\n",
    "* distance of neighborhood from city center within 7 miles\n",
    "\n",
    "I will use regularly spaced grid of locations, centered around city center, to define our neighborhoods.\n",
    "\n",
    "The following data sources will be needed to extract/generate the required information:\n",
    "* centers of candidate areas will be generated algorithmically and approximate addresses of centers of those areas will be obtained using the **Foursquare API**\n",
    "* number of gym/fitness centers and their location in every neighborhood will be obtained using **Foursquare API**\n",
    "\n",
    "A dataframe containing the 4 zipcode neighborhoods in Poughkeepsie is hardcode defined by looking up information on wikipedias and https://www.unitedstateszipcodes.org/.  Thru this in data, I created the dataframe for the Poughkeepsie 4 neighborhoods.\n",
    "\n",
    "\n",
    "\tZipcode\tTown\t        Neighbourhood\t        Latitude\tLongitude\tPopulation\n",
    "0\t12601 &emsp; Poughkeepsie &emsp; Western &nbsp; &emsp;  &emsp; &emsp;  &emsp;  &emsp;  41.7004\t&emsp;   -73.923912\t&emsp;43398\n",
    "\n",
    "1\t12602 &emsp; Poughkeepsie &emsp; City of Poughkeepsie &emsp; \t41.7004\t&emsp;   -73.921000\t&emsp;30398\n",
    "\n",
    "2\t12603 &emsp; Poughkeepsie &emsp; Arlington\t&nbsp; &emsp;  &emsp;  &emsp;  &emsp; &emsp;   41.6959\t &emsp;  -73.896800\t&emsp;42810\n",
    "\n",
    "3\t12604 &emsp; Poughkeepsie &emsp; Vassar&emsp; &nbsp; &emsp;  &emsp;  &emsp;  &emsp;  &emsp; \t41.6862\t &emsp;   -73.897300&emsp;\t584\n",
    "\n",
    "\n"
   ]
  }
 ],
 "metadata": {
  "kernelspec": {
   "display_name": "Python 3",
   "language": "python",
   "name": "python3"
  },
  "language_info": {
   "codemirror_mode": {
    "name": "ipython",
    "version": 3
   },
   "file_extension": ".py",
   "mimetype": "text/x-python",
   "name": "python",
   "nbconvert_exporter": "python",
   "pygments_lexer": "ipython3",
   "version": "3.8.5"
  }
 },
 "nbformat": 4,
 "nbformat_minor": 1
}
